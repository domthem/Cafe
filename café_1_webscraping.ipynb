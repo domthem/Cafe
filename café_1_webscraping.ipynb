{
 "cells": [
  {
   "cell_type": "code",
   "execution_count": 1,
   "id": "66895758",
   "metadata": {},
   "outputs": [],
   "source": [
    "import pandas as pd\n",
    "import numpy as np\n",
    "\n",
    "import warnings\n",
    "warnings.filterwarnings('ignore')\n",
    "\n"
   ]
  },
  {
   "cell_type": "code",
   "execution_count": 2,
   "id": "ddfe6b91",
   "metadata": {},
   "outputs": [],
   "source": [
    "#Elements nécessaires au web-scrapping\n",
    "import requests\n",
    "import random\n",
    "from bs4 import BeautifulSoup\n",
    "import re"
   ]
  },
  {
   "cell_type": "code",
   "execution_count": 3,
   "id": "2865f730",
   "metadata": {},
   "outputs": [],
   "source": [
    "#L'objectif est de récupérer dans un tableau les informations détaillées issues des dégustations de cafés\n",
    "#réalisées par le site \"www.coffeereview.com\" . Il s'agit de la liste des \"highest-rated-coffees\" ,\n",
    "#cafés dont la  cotation est >= 94 ( sur 100)\n",
    "\n",
    "\n",
    "#L'extraction des données se fera en deux temps:\n",
    "\n",
    "#Tout d'abord : la liste des adresses renvoyant aux comptes rendus détaillés des dégustations \n",
    "#en parcourant les 85 pages accessibles à partir de l'adresse' \"https://www.coffeereview.com/highest-rated-coffees/\"\n",
    "\n",
    "\n",
    "#Ensuite dans une grande boucle , les informations détaillées de chaque dégustation"
   ]
  },
  {
   "cell_type": "code",
   "execution_count": 4,
   "id": "2a7f2401",
   "metadata": {},
   "outputs": [],
   "source": [
    "#Récupération des adresses des différentes pages , 1 page par café testé\n",
    "\n",
    "#NB : contournement de l'erreur 403 qui bloque l'accès au site en webscraping\n",
    "#Solution issue du site : https://scrapeops.io/web-scraping-playbook/403-forbidden-error-web-scraping/\n",
    "\n",
    "#Première page\n",
    "pages_revues=[]\n",
    "user_agents_list = [\n",
    "    'Mozilla/5.0 (iPad; CPU OS 12_2 like Mac OS X) AppleWebKit/605.1.15 (KHTML, like Gecko) Mobile/15E148',\n",
    "    'Mozilla/5.0 (Macintosh; Intel Mac OS X 10_15_7) AppleWebKit/537.36 (KHTML, like Gecko) Chrome/99.0.4844.83 Safari/537.36',\n",
    "    'Mozilla/5.0 (Windows NT 10.0; Win64; x64) AppleWebKit/537.36 (KHTML, like Gecko) Chrome/99.0.4844.51 Safari/537.36'\n",
    "]\n",
    "\n",
    "r = requests.get(\"https://www.coffeereview.com/highest-rated-coffees/\", headers={'User-Agent': random.choice(user_agents_list)})\n",
    "pages_revues.append(BeautifulSoup(r.content,'html.parser'))\n",
    "\n",
    "#Pages suivantes de 2 à 85\n",
    "\n",
    "for i in range(2,86):\n",
    "    adresse=\"https://www.coffeereview.com/highest-rated-coffees/page/\"+str(i)+\"/\"\n",
    "    r = requests.get(adresse, headers={'User-Agent': random.choice(user_agents_list)})\n",
    "    pages_revues.append(BeautifulSoup(r.content,'html.parser'))"
   ]
  },
  {
   "cell_type": "code",
   "execution_count": 5,
   "id": "87bd83d0",
   "metadata": {},
   "outputs": [
    {
     "name": "stdout",
     "output_type": "stream",
     "text": [
      "Taille de la liste des pages : 85\n"
     ]
    }
   ],
   "source": [
    "#Vérification du nombre de pages récupérées ( revue=review)\n",
    "print (\"Taille de la liste des pages :\",len(pages_revues))\n",
    "\n",
    "#Cela correspond bien à la numérotation des pages du site"
   ]
  },
  {
   "cell_type": "code",
   "execution_count": 6,
   "id": "d142e99d",
   "metadata": {},
   "outputs": [],
   "source": [
    "#Constitution de la liste des liens vers les comptes rendus de dégustation\n",
    "liens_revues=[]\n",
    "\n",
    "for i in range(len(pages_revues)):\n",
    "    liste_cafés=pages_revues[i].find_all(attrs={\"class\":\"review-title\"})\n",
    "    for element in liste_cafés:\n",
    "        lien=element.find(\"a\")\n",
    "        liens_revues.append(lien['href'])\n",
    "    "
   ]
  },
  {
   "cell_type": "code",
   "execution_count": 7,
   "id": "a6a3aa37",
   "metadata": {},
   "outputs": [
    {
     "name": "stdout",
     "output_type": "stream",
     "text": [
      "Nombre de liens récupérés: 1700\n"
     ]
    }
   ],
   "source": [
    "#Vérification du nombre de liens récupérés , 1 par café testé\n",
    "print(\"Nombre de liens récupérés:\",len(liens_revues))    "
   ]
  },
  {
   "cell_type": "code",
   "execution_count": 8,
   "id": "345870a3",
   "metadata": {},
   "outputs": [
    {
     "data": {
      "text/plain": [
       "['https://www.coffeereview.com/review/kenya-10/',\n",
       " 'https://www.coffeereview.com/review/sl34-dark-roast/',\n",
       " 'https://www.coffeereview.com/review/ethiopia-bench-maji-geisha-lucy-station-dark-roast/',\n",
       " 'https://www.coffeereview.com/review/kenya-ab-athena-plus/',\n",
       " 'https://www.coffeereview.com/review/kenya-muranga/',\n",
       " 'https://www.coffeereview.com/review/costa-rica-turrialba-volcano-honey-process/',\n",
       " 'https://www.coffeereview.com/review/colombia-huila-finca-el-triunfo-martha-zuniga-pink-bourbon/',\n",
       " 'https://www.coffeereview.com/review/kenya-kanwangi-aa/',\n",
       " 'https://www.coffeereview.com/review/ethiopia-bench-maji-geisha-lucy-station/',\n",
       " 'https://www.coffeereview.com/review/ecuador-penaherrera-aaa-2/',\n",
       " 'https://www.coffeereview.com/review/hwc-geisha-plus-geisha-black-espresso/',\n",
       " 'https://www.coffeereview.com/review/ethiopia-yirgacheffe-jade-lotus/',\n",
       " 'https://www.coffeereview.com/review/blue-sunda-estate-java/',\n",
       " 'https://www.coffeereview.com/review/la-papaya-natural-ecuador/',\n",
       " 'https://www.coffeereview.com/review/wilton-benitez-tabi-vip-colombia/']"
      ]
     },
     "execution_count": 8,
     "metadata": {},
     "output_type": "execute_result"
    }
   ],
   "source": [
    "#Quelques exemples de liens vers les comptes rendus\n",
    "liens_revues[0:15]"
   ]
  },
  {
   "cell_type": "code",
   "execution_count": 9,
   "id": "44ed0341",
   "metadata": {},
   "outputs": [
    {
     "name": "stdout",
     "output_type": "stream",
     "text": [
      "Nombre de cafés traités: 1700\n",
      "Temps de traitement en minutes : 21.583333333333332\n"
     ]
    }
   ],
   "source": [
    "#Il s'agit maintenant d'extraire toutes les informations des revues\n",
    "#Cette opération est assez longue.\n",
    "#Elle inclut un premier traitement de mise en forme des informations extraites\n",
    "#Traitement mis au point à partir de quelques exemples\n",
    "\n",
    "\n",
    "#Mesure du temps\n",
    "heure_deb = dt.datetime.now()\n",
    "\n",
    "#Intialisation des listes\n",
    "café=[]\n",
    "nom_torréfacteur=[]\n",
    "cotation=[]\n",
    "lieu_torréfaction=[]\n",
    "origine_café=[]\n",
    "niveau_torréfaction=[]\n",
    "prix_estimatif=[]\n",
    "\n",
    "date_test=[]\n",
    "note_arome=[]\n",
    "note_corps=[]\n",
    "note_saveur=[]\n",
    "note_arrière_gout=[]\n",
    "note_avec_lait=[]\n",
    "note_acidité_structure=[]\n",
    "\n",
    "jugement=[]\n",
    "notes=[]\n",
    "conclusion=[]\n",
    "nb_cafés=0\n",
    "\n",
    "#Parcours de la liste de liens\n",
    "for lien in liens_revues:\n",
    "    \n",
    "        #Initialisation des toutes les variables à NA\n",
    "        nomcafé=\"NA\"\n",
    "        nomtorréfacteur=\"NA\"\n",
    "        notecotation=\"NA\"\n",
    "        lieutorréfaction=\"NA\"\n",
    "        originecafé=\"NA\"\n",
    "        niveautorréfaction=\"NA\"\n",
    "        prix=\"NA\"\n",
    "        datetest=\"NA\"\n",
    "        arome=\"NA\"\n",
    "        corps=\"NA\"\n",
    "        saveur=\"NA\"\n",
    "        arrièregout=\"NA\"\n",
    "        aveclait=\"NA\"\n",
    "        acidité=\"NA\"\n",
    "        \n",
    "        #Boucle sur les cafés\n",
    "        nb_cafés+=1\n",
    "        r = requests.get(lien, headers={'User-Agent': random.choice(user_agents_list)})\n",
    "        infos=BeautifulSoup(r.content,'html.parser')\n",
    "\n",
    "        #Récupération des premières infos café , torréfacteur et cotation\n",
    "        nomcafé=infos.find(name=\"h1\",attrs={\"class\":\"review-title\"}).text\n",
    "        nomtorréfacteur=infos.find(name=\"p\",attrs={\"class\":\"review-roaster\"}).text\n",
    "        notecotation=infos.find(attrs={\"class\":\"review-template-rating\"}).text\n",
    "\n",
    "        café.append(nomcafé)\n",
    "        nom_torréfacteur.append(nomtorréfacteur)\n",
    "        cotation.append(notecotation)\n",
    "        \n",
    "        #Récupération des 2 tableaux\n",
    "        tableau=infos.find_all(attrs={\"class\":\"review-template-table\"})\n",
    "        tableau_1=re.compile(r\"\\n\").sub(\" \",tableau[0].getText().strip())\n",
    "        tableau_2=re.compile(r\"\\n\").sub(\" \",tableau[1].getText().strip())\n",
    "        tableau_2=re.compile(r\"\\t\\t\\t\\t\\t\\t\").sub(\" \",tableau_2)\n",
    "        liste_1=re.compile(r\"   \").split(tableau_1)\n",
    "        liste_2=re.compile(r\"   \").split(tableau_2)\n",
    "   \n",
    "        #Décomposition de la liste 1\n",
    "        lieu_torréfaction.append(liste_1[0].split(\": \")[1])\n",
    "        origine_café.append(liste_1[1].split(\": \")[1])\n",
    "        niveau_torréfaction.append(liste_1[2].split(\": \")[1])\n",
    "        if len(liste_1)>4:\n",
    "            prix_estimatif.append(liste_1[4].split(\": \")[1])\n",
    "        else:  \n",
    "            prix_estimatif.append(\"NA\")\n",
    "\n",
    "        #Décomposition de la liste 2\n",
    "        \n",
    "        if len(liste_2)>0:\n",
    "            for i in range(len(liste_2)):\n",
    "                test=liste_2[i].split(\": \")\n",
    "                if test[0]==\"Review Date\":\n",
    "                    datetest=test[1]\n",
    "                if test[0]==\"Aroma\":\n",
    "                    arome=test[1]\n",
    "                if test[0]==\"Body\":\n",
    "                    corps=test[1]    \n",
    "                if test[0]==\"Flavor\":\n",
    "                    saveur=test[1]   \n",
    "                if test[0]==\"Aftertaste\":\n",
    "                    arrièregout=test[1]   \n",
    "                if test[0]==\"Acidity/Structure\":\n",
    "                    acidité=test[1]\n",
    "                if test[0]==\"With Milk\":\n",
    "                    aveclait=test[1]\n",
    "        \n",
    "        date_test.append(datetest)\n",
    "        note_arome.append(arome)\n",
    "        note_corps.append(corps)\n",
    "        note_saveur.append(saveur)\n",
    "        note_arrière_gout.append(arrièregout)\n",
    "        note_avec_lait.append(aveclait)\n",
    "        note_acidité_structure.append(acidité)\n",
    "        \n",
    "        #Récupération des textes\n",
    "        textes=infos.find(attrs={\"class\":\"review-template\"}).getText().strip()\n",
    "\n",
    "        #traitement pour découper le texte en 3 zones correspondant aux 3 rubriques de la revue\n",
    "        textes=re.compile(r\"\\n\").sub(\" \",textes) # on éclairçit le texte\n",
    "        textes= re.compile(r'\\r').sub(\" \",textes) \n",
    "\n",
    "        #On récupère les contenus en coupant sur les intitulés des rubriques\n",
    "\n",
    "        if re.search(\"Bottom Line\", textes):\n",
    "            texte1=textes.split(\"Bottom Line \")\n",
    "            texte11=texte1[1].split(\"Explore\")\n",
    "        elif re.search(\"Who Should Drink It\", textes):\n",
    "            texte1=textes.split(\"Who Should Drink It\")\n",
    "            texte11=texte1[1].split(\"Explore\")\n",
    "        else:\n",
    "            texte11=[\"NA\"]\n",
    "        \n",
    "        conclusion.append(texte11[0].strip())\n",
    "\n",
    "        texte2=texte1[0].split(\"Notes \")\n",
    "        texte21=texte2[1].split(\"Visit\")\n",
    "    \n",
    "        notes.append(texte21[0].strip()) \n",
    "    \n",
    "        texte3=texte2[0].split(\"Blind Assessment\")\n",
    "        jugement.append(texte3[1].strip())\n",
    "\n",
    "    \n",
    "heure_fin = dt.datetime.now() \n",
    "\n",
    "#Nombre de cafés traités\n",
    "print(\"Nombre de cafés traités:\",nb_cafés)\n",
    "\n",
    "#Temps écoulé en minutes\n",
    "temps=((heure_fin-heure_deb).seconds)/60\n",
    "\n",
    "print(\"Temps de traitement en minutes :\",temps)"
   ]
  },
  {
   "cell_type": "code",
   "execution_count": 10,
   "id": "095e3da1",
   "metadata": {},
   "outputs": [],
   "source": [
    "#Construction du dataframe \n",
    "\n",
    "data_café=pd.DataFrame({\n",
    "    \"café\":list(café),\n",
    "    \"nom_torréfacteur\":list(nom_torréfacteur),\n",
    "    \"cotation\":list(cotation),\n",
    "    \"date_test\":list(date_test),\n",
    "    \"note_arôme\":list(note_arome),\n",
    "    \"note_saveur\":list(note_saveur),\n",
    "    \"note_corps\":list(note_corps),\n",
    "    \"note_arrière_gout\":list(note_arrière_gout),\n",
    "    \"note_acidité_structure\": list(note_acidité_structure),\n",
    "    \"note_avec_lait\":list(note_avec_lait),\n",
    "    \"lieu_torréfaction\":list(lieu_torréfaction),\n",
    "    \"origine_café\":list(origine_café),\n",
    "    \"niveau_torréfaction\":list(niveau_torréfaction),\n",
    "    \"jugement\":list(jugement),\n",
    "    \"notes\":list(notes),\n",
    "    \"conclusion\":list(conclusion) ,\n",
    "    \"prix_estimatif\":list(prix_estimatif),\n",
    "})"
   ]
  },
  {
   "cell_type": "code",
   "execution_count": 11,
   "id": "c1d2faf7",
   "metadata": {},
   "outputs": [],
   "source": [
    "#Colonne origine_café à traiter pour enlever des points\n",
    "data_café[\"origine_café\"]=data_café[\"origine_café\"].apply(lambda x:x.split(\".\")[0])"
   ]
  },
  {
   "cell_type": "code",
   "execution_count": 12,
   "id": "ad23c94f",
   "metadata": {},
   "outputs": [],
   "source": [
    "#Dernier traitement :Remplacer les NR par des valeurs manquantes\n",
    "data_café=data_café.replace(to_replace=[\"NR\"],value=[\"NA\"])"
   ]
  },
  {
   "cell_type": "code",
   "execution_count": 13,
   "id": "700bacf2",
   "metadata": {},
   "outputs": [],
   "source": [
    "#Exportation du fichier pour analyse subséquente\n",
    "data_café.to_csv(r\"C:\\DATA\\café_1\\TOP-RATED_COFFEES.csv\",index=False)"
   ]
  }
 ],
 "metadata": {
  "kernelspec": {
   "display_name": "Python 3 (ipykernel)",
   "language": "python",
   "name": "python3"
  },
  "language_info": {
   "codemirror_mode": {
    "name": "ipython",
    "version": 3
   },
   "file_extension": ".py",
   "mimetype": "text/x-python",
   "name": "python",
   "nbconvert_exporter": "python",
   "pygments_lexer": "ipython3",
   "version": "3.10.8"
  }
 },
 "nbformat": 4,
 "nbformat_minor": 5
}
